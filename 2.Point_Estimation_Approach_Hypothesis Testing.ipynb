{
 "cells": [
  {
   "cell_type": "markdown",
   "id": "7181a25e",
   "metadata": {},
   "source": [
    "### Point Estimation Approach - Hypothesis Testing"
   ]
  },
  {
   "cell_type": "markdown",
   "id": "51d01db8",
   "metadata": {},
   "source": [
    "#### 1.Point estimation: \n",
    "\n",
    "Point estimation is a method of estimating a population parameter using a single value, called a point estimate, based on a sample from that population. In hypothesis testing, point estimation is often used to estimate the value of the population parameter under the null or alternative hypothesis.\n",
    "\n",
    "For example, suppose we want to test the hypothesis that the population mean is equal to a certain value. We can take a random sample from the population, compute the sample mean, and use it as a point estimate of the population mean. We can then compare the point estimate with the hypothesized value using a test statistic, such as the t-statistic or the z-statistic, to determine the evidence against the null hypothesis.\n",
    "\n",
    "The point estimate is important in hypothesis testing because it provides an estimate of the unknown population parameter, which is often required for calculating the test statistic and the p-value. The accuracy of the point estimate depends on the sample size, the sampling method, and the variability of the population. Larger sample sizes and more representative sampling methods tend to result in more accurate point estimates.\n",
    "\n",
    "It's important to note that point estimates are subject to sampling error and do not provide a range of possible values for the population parameter. Therefore, confidence intervals are often used to provide a range of plausible values for the population parameter based on the sample data, which can help us make more informed conclusions about the hypothesis being tested.\n",
    "\n",
    "#### How to calculate Point estimation approach?\n",
    "To calculate point estimation, you need to first determine the population parameter you are interested in estimating and then obtain a sample from that population. The sample should be representative of the population, and the sampling method should be random or at least unbiased.\n",
    "Once you have your sample, you can use the sample data to compute a point estimate of the population parameter. The formula for the point estimate will depend on the parameter being estimated. Here are some examples:\n",
    "\n",
    "#### Population Mean: \n",
    "\n",
    "The point estimate of the population mean is the sample mean. It is calculated as the sum of the sample observations divided by the sample size.\n",
    "\n",
    "x̄ = Σxi / n\n",
    "\n",
    "where x̄ is the sample mean, Σxi is the sum of the sample observations, and n is the sample size.\n",
    "\n",
    "#### Population Proportion: \n",
    "\n",
    "The point estimate of the population proportion is the sample proportion. It is calculated as the number of successes in the sample divided by the sample size.\n",
    "\n",
    "p̂ = x / n\n",
    "\n",
    "where p̂ is the sample proportion, x is the number of successes in the sample, and n is the sample size.\n",
    "\n",
    "#### Population Standard Deviation: \n",
    "\n",
    "The point estimate of the population standard deviation is the sample standard deviation. It is calculated as the square root of the sum of squared deviations of the sample observations from the sample mean, divided by (n-1).\n",
    "\n",
    "s = sqrt [Σ (xi - x̄) ^2 / (n - 1)]\n",
    "\n",
    "where s is the sample standard deviation, xi is the i-th sample observation, x̄ is the sample mean, and n is the sample size.\n",
    "These are just a few examples of how to calculate point estimates. The specific formula for the point estimate will depend on the population parameter being estimated.\n"
   ]
  },
  {
   "cell_type": "code",
   "execution_count": 1,
   "id": "7873dba0",
   "metadata": {},
   "outputs": [
    {
     "data": {
      "text/html": [
       "<div>\n",
       "<style scoped>\n",
       "    .dataframe tbody tr th:only-of-type {\n",
       "        vertical-align: middle;\n",
       "    }\n",
       "\n",
       "    .dataframe tbody tr th {\n",
       "        vertical-align: top;\n",
       "    }\n",
       "\n",
       "    .dataframe thead th {\n",
       "        text-align: right;\n",
       "    }\n",
       "</style>\n",
       "<table border=\"1\" class=\"dataframe\">\n",
       "  <thead>\n",
       "    <tr style=\"text-align: right;\">\n",
       "      <th></th>\n",
       "      <th>waist</th>\n",
       "      <th>audiposetissue</th>\n",
       "    </tr>\n",
       "  </thead>\n",
       "  <tbody>\n",
       "    <tr>\n",
       "      <th>0</th>\n",
       "      <td>74.75</td>\n",
       "      <td>25.72</td>\n",
       "    </tr>\n",
       "    <tr>\n",
       "      <th>1</th>\n",
       "      <td>72.60</td>\n",
       "      <td>25.89</td>\n",
       "    </tr>\n",
       "    <tr>\n",
       "      <th>2</th>\n",
       "      <td>81.80</td>\n",
       "      <td>42.60</td>\n",
       "    </tr>\n",
       "    <tr>\n",
       "      <th>3</th>\n",
       "      <td>83.95</td>\n",
       "      <td>42.80</td>\n",
       "    </tr>\n",
       "  </tbody>\n",
       "</table>\n",
       "</div>"
      ],
      "text/plain": [
       "   waist  audiposetissue\n",
       "0  74.75           25.72\n",
       "1  72.60           25.89\n",
       "2  81.80           42.60\n",
       "3  83.95           42.80"
      ]
     },
     "execution_count": 1,
     "metadata": {},
     "output_type": "execute_result"
    }
   ],
   "source": [
    "import math\n",
    "import statistics\n",
    "import pandas as pd\n",
    "\n",
    "df = pd.read_csv(r\"C:\\PYTHON\\PANDAS\\wcat.csv\")\n",
    "df.iloc[0:4, :]"
   ]
  },
  {
   "cell_type": "markdown",
   "id": "74d392b6",
   "metadata": {},
   "source": [
    "### Python program to calculate the point estimate of a population mean using a sample mean:"
   ]
  },
  {
   "cell_type": "code",
   "execution_count": 2,
   "id": "5fa6dc1b",
   "metadata": {},
   "outputs": [],
   "source": [
    "# Define the sample data\n",
    "sample_data = df[\"waist\"]\n",
    "\n",
    "# Calculate the sample mean\n",
    "sample_mean = statistics.mean(sample_data)"
   ]
  },
  {
   "cell_type": "code",
   "execution_count": 3,
   "id": "7049f267",
   "metadata": {},
   "outputs": [
    {
     "name": "stdout",
     "output_type": "stream",
     "text": [
      "Sample mean: 91.90183486238531\n"
     ]
    }
   ],
   "source": [
    "# Print the sample mean\n",
    "print(\"Sample mean:\", sample_mean)"
   ]
  },
  {
   "cell_type": "markdown",
   "id": "c16b55d4",
   "metadata": {},
   "source": [
    "In this program, we first import the statistics module to use its mean() function to calculate the sample mean. We then define the sample data as a list of numbers and calculate the sample mean using the mean() function. Finally, we print the sample mean to the console.\n",
    "\n",
    "Note that this program calculates the point estimate of the population mean, which is simply the sample mean. It does not provide a confidence interval or measure of uncertainty, which are obtained using interval estimation methods."
   ]
  },
  {
   "cell_type": "markdown",
   "id": "84ad40c3",
   "metadata": {},
   "source": [
    "### Python code to calculate the Population Proportion"
   ]
  },
  {
   "cell_type": "code",
   "execution_count": 4,
   "id": "7991e3a4",
   "metadata": {},
   "outputs": [],
   "source": [
    "# Calculate the sample proportion\n",
    "sample_proportion = sum(sample_data) / len(sample_data)"
   ]
  },
  {
   "cell_type": "code",
   "execution_count": 5,
   "id": "15b3d44b",
   "metadata": {},
   "outputs": [
    {
     "name": "stdout",
     "output_type": "stream",
     "text": [
      "Sample proportion: 91.90183486238533\n"
     ]
    }
   ],
   "source": [
    "# Print the sample proportion\n",
    "print(\"Sample proportion:\", sample_proportion)"
   ]
  },
  {
   "cell_type": "markdown",
   "id": "a39dcad5",
   "metadata": {},
   "source": [
    "In this program, we first define the sample data as a list of binary values representing the presence or absence of a certain characteristic in the sample. We then calculate the sample proportion as the number of positive cases divided by the total sample size.\n",
    "\n",
    "The sample proportion is the point estimate of the population proportion, which represents the proportion of the entire population that possesses the characteristic of interest. This calculation assumes that the sample is representative of the population and that the characteristic is binary (present or absent).\n",
    "\n",
    "Note that the sample size should be sufficiently large (typically at least 30) to ensure that the sample proportion is a good estimate of the population proportion."
   ]
  },
  {
   "cell_type": "markdown",
   "id": "f6029d14",
   "metadata": {},
   "source": [
    "### Python program to calculate the Population Standard Deviation?"
   ]
  },
  {
   "cell_type": "markdown",
   "id": "f4e7dc17",
   "metadata": {},
   "source": [
    "Unfortunately, it's not possible to calculate the population standard deviation directly from a sample using Python or any other programming language. The population standard deviation represents the variability of the entire population, which is typically unknown and cannot be observed or measured directly.\n",
    "\n",
    "However, it's possible to estimate the population standard deviation using the sample standard deviation, which is a measure of the variability of the sample data. The formula for estimating the population standard deviation from the sample standard deviation is:\n",
    "\n",
    "population_stdev = sample_stdev * sqrt(n / (n - 1))\n",
    "\n",
    "where sample_stdev is the sample standard deviation, n is the sample size, and sqrt is the square root function.\n",
    "\n",
    "Here's an example Python program to calculate the sample standard deviation and estimate the population standard deviation:"
   ]
  },
  {
   "cell_type": "code",
   "execution_count": 6,
   "id": "aad30428",
   "metadata": {},
   "outputs": [],
   "source": [
    "# Calculate the sample standard deviation\n",
    "sample_stdev = statistics.stdev(sample_data)"
   ]
  },
  {
   "cell_type": "code",
   "execution_count": 7,
   "id": "6939f6ec",
   "metadata": {},
   "outputs": [],
   "source": [
    "# Calculate the sample size\n",
    "n = len(sample_data)"
   ]
  },
  {
   "cell_type": "code",
   "execution_count": 8,
   "id": "a836d22e",
   "metadata": {},
   "outputs": [],
   "source": [
    "# Estimate the population standard deviation\n",
    "population_stdev = sample_stdev * math.sqrt(n / (n - 1))"
   ]
  },
  {
   "cell_type": "code",
   "execution_count": 9,
   "id": "e9d8c1b7",
   "metadata": {},
   "outputs": [
    {
     "name": "stdout",
     "output_type": "stream",
     "text": [
      "Sample standard deviation: 13.559115982678824\n",
      "Estimated population standard deviation: 13.621745027188474\n"
     ]
    }
   ],
   "source": [
    "# Print the sample standard deviation and estimated population standard deviation\n",
    "print(\"Sample standard deviation:\", sample_stdev)\n",
    "print(\"Estimated population standard deviation:\", population_stdev)"
   ]
  },
  {
   "cell_type": "markdown",
   "id": "ebdba106",
   "metadata": {},
   "source": [
    "In this program, we first import the statistics and math modules to use their functions. We then define the sample data as a list of numbers and calculate the sample standard deviation using the stdev() function from the statistics module.\n",
    "\n",
    "We calculate the sample size n using the len() function, and estimate the population standard deviation using the formula above. Finally, we print the sample standard deviation and estimated population standard deviation to the console using the print() function."
   ]
  },
  {
   "cell_type": "code",
   "execution_count": null,
   "id": "a13d0abc",
   "metadata": {},
   "outputs": [],
   "source": []
  }
 ],
 "metadata": {
  "kernelspec": {
   "display_name": "Python 3 (ipykernel)",
   "language": "python",
   "name": "python3"
  },
  "language_info": {
   "codemirror_mode": {
    "name": "ipython",
    "version": 3
   },
   "file_extension": ".py",
   "mimetype": "text/x-python",
   "name": "python",
   "nbconvert_exporter": "python",
   "pygments_lexer": "ipython3",
   "version": "3.8.16"
  }
 },
 "nbformat": 4,
 "nbformat_minor": 5
}
